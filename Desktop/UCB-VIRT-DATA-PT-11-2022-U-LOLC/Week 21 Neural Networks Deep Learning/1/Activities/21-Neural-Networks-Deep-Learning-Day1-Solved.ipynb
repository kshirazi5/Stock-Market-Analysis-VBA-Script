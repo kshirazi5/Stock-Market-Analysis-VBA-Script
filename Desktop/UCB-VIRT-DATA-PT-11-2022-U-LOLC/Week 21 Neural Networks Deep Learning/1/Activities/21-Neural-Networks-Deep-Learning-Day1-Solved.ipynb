{
 "cells": [
  {
   "cell_type": "markdown",
   "metadata": {},
   "source": [
    "**2023-04-27 `21.1-Neural-Networks-Deep-Learning-Introduction to Advanced Machine Learning`**"
   ]
  },
  {
   "cell_type": "markdown",
   "metadata": {},
   "source": [
    "Now we learn one of the most interesting and groundbreaking models out there 'tensorflow'.  Basically, tensorflow attempts to work like the human brain!  While it really isn't nearly as powerful as a human brain, it does provide amazing results.  We will interact with Tensorflow models using 'Keras'.\n",
    "\n",
    "* [Great PBS video on Neural Networks](https://www.youtube.com/watch?time_continue=11&v=oV3ZY6tJiA0&feature=emb_title)\n",
    "* [Tensorflow Playground](https://playground.tensorflow.org/#activation=sigmoid&batchSize=10&dataset=gauss&regDataset=reg-plane&learningRate=0.03&regularizationRate=0&noise=0&networkShape=1&seed=0.10587&showTestData=false&discretize=true&percTrainData=50&x=true&y=true&xTimesY=false&xSquared=false&ySquared=false&cosX=false&sinX=false&cosY=false&sinY=false&collectStats=false&problem=classification&initZero=false&hideText=false&discretize_hide=true&regularization_hide=true&learningRate_hide=true&regularizationRate_hide=true&percTrainData_hide=true&showTestData_hide=true&noise_hide=true&batchSize_hide=true)\n",
    "* [Google Colaboratory](https://colab.research.google.com/notebooks/welcome.ipynb)\n",
    "* [Nice Neural Network explanation](https://www.explainthatstuff.com/introduction-to-neural-networks.html)\n",
    "* [Very nice (kind of long) Keras Tutorial](https://elitedatascience.com/keras-tutorial-deep-learning-in-python)\n",
    "* [Shorter Keras tutorial and example](https://victorzhou.com/blog/keras-neural-network-tutorial/)\n"
   ]
  },
  {
   "cell_type": "markdown",
   "metadata": {},
   "source": [
    "**Objectives**\n",
    "\n",
    "* Compare the differences between the traditional machine learning classification and regression models and the neural network models.\n",
    "* Describe the perceptron model and its components.\n",
    "* Implement neural network models using TensorFlow."
   ]
  },
  {
   "cell_type": "markdown",
   "metadata": {},
   "source": [
    "**Presentation**\n",
    "* [21.1 Introduction to Advanced Machine Learning](https://ucb.bootcampcontent.com/UCB-Coding-Bootcamp/UCB-VIRT-DATA-PT-11-2022-U-LOLC/-/blob/main/slides/Data-21.1-Introduction_to_Advanced_Machine_Learning.pdf)"
   ]
  },
  {
   "cell_type": "markdown",
   "metadata": {},
   "source": [
    "**Install**\n",
    "```\n",
    "pip install tensorflow\n",
    "```"
   ]
  },
  {
   "cell_type": "markdown",
   "metadata": {},
   "source": [
    "# =========================================="
   ]
  },
  {
   "cell_type": "markdown",
   "metadata": {},
   "source": [
    "### Instructor Do: Surfing the Neural Net (0:05)"
   ]
  },
  {
   "cell_type": "markdown",
   "metadata": {},
   "source": []
  },
  {
   "cell_type": "markdown",
   "metadata": {},
   "source": [
    "---\n",
    "### Instructor Do: What is a Neural Network? (0:15)"
   ]
  },
  {
   "cell_type": "markdown",
   "metadata": {},
   "source": [
    "# =========================================="
   ]
  },
  {
   "cell_type": "markdown",
   "metadata": {},
   "source": [
    "### 1.01 Students Do: Working Through the Logistics (0:15)"
   ]
  },
  {
   "cell_type": "markdown",
   "metadata": {},
   "source": [
    "# Work Through Logistics\n",
    "\n",
    "In this activity, you'll use a logistic regression to categorize data from the `make_blobs` function from scikit-learn to create data.\n",
    "\n",
    "## Instructions\n",
    "\n",
    "* Use the starter code provided to create your `make_blobs` dataset from scikit-learn.\n",
    "\n",
    "* Split your dataset into training and testing sets using scikit-learn's `train_test_split` module.\n",
    "\n",
    "* Create a LogisticRegression instance from scikit-learn's `LogisticRegression` model.\n",
    "\n",
    "## Hint\n",
    "\n",
    "  * If you need a reminder on how to create a `LogisticRegression` model, review the [Scikit-learn documentation](https://scikit-learn.org/stable/modules/generated/sklearn.linear_model.LogisticRegression.html).\n",
    "\n",
    "* Train your `LogisticRegression` model on the training dataset.\n",
    "\n",
    "* Evaluate your trained `LogisticRegression` model using the `accuracy_score` metric from scikit-learn.\n",
    "\n",
    "------"
   ]
  },
  {
   "cell_type": "code",
   "execution_count": null,
   "metadata": {},
   "outputs": [],
   "source": [
    "# Import dependencies\n",
    "import matplotlib.pyplot as plt\n",
    "import pandas as pd\n",
    "\n",
    "# Generate dummy dataset\n",
    "from sklearn.datasets import make_blobs\n",
    "X, y = make_blobs(centers=2, random_state=42)\n",
    "\n",
    "plt.scatter(X[:, 0], X[:, 1], c=y)"
   ]
  },
  {
   "cell_type": "code",
   "execution_count": null,
   "metadata": {},
   "outputs": [],
   "source": [
    "# Use sklearn to split dataset\n",
    "from sklearn.model_selection import train_test_split\n",
    "X_train, X_test, y_train, y_test = train_test_split(X, y, random_state=78)"
   ]
  },
  {
   "cell_type": "code",
   "execution_count": null,
   "metadata": {},
   "outputs": [],
   "source": [
    "# Create a logistic regression model\n",
    "from sklearn.linear_model import LogisticRegression\n",
    "\n",
    "# Define the logistic regression model\n",
    "log_classifier = LogisticRegression(solver=\"lbfgs\",max_iter=200)\n",
    "\n",
    "# Train the model\n",
    "log_classifier.fit(X_train,y_train)"
   ]
  },
  {
   "cell_type": "code",
   "execution_count": 4,
   "metadata": {},
   "outputs": [
    {
     "name": "stdout",
     "output_type": "stream",
     "text": [
      " Logistic regression model accuracy: 1.000\n"
     ]
    }
   ],
   "source": [
    "from sklearn.metrics import accuracy_score\n",
    "y_pred = log_classifier.predict(X_test)\n",
    "print(f\" Logistic regression model accuracy: {accuracy_score(y_test,y_pred):.3f}\")"
   ]
  },
  {
   "cell_type": "markdown",
   "metadata": {},
   "source": [
    "# =========================================="
   ]
  },
  {
   "cell_type": "markdown",
   "metadata": {},
   "source": [
    "### 1.02 Everyone Do: Work Through a Neural Network Workflow (0:20)"
   ]
  },
  {
   "cell_type": "markdown",
   "metadata": {},
   "source": []
  },
  {
   "cell_type": "code",
   "execution_count": 5,
   "metadata": {},
   "outputs": [],
   "source": [
    "# !python.exe -m pip install --upgrade pip\n",
    "# !pip install tensorflow"
   ]
  },
  {
   "cell_type": "code",
   "execution_count": 6,
   "metadata": {
    "executionInfo": {
     "elapsed": 3773,
     "status": "ok",
     "timestamp": 1676475308224,
     "user": {
      "displayName": "Sean Morey",
      "userId": "09649124933964159109"
     },
     "user_tz": 360
    },
    "id": "81Tj1ajPtFJg"
   },
   "outputs": [],
   "source": [
    "# Import our dependencies\n",
    "import pandas as pd\n",
    "import matplotlib.pyplot as plt\n",
    "from sklearn.datasets import make_blobs\n",
    "import sklearn as skl\n",
    "import tensorflow as tf"
   ]
  },
  {
   "cell_type": "code",
   "execution_count": 7,
   "metadata": {
    "colab": {
     "base_uri": "https://localhost:8080/",
     "height": 258
    },
    "executionInfo": {
     "elapsed": 1351,
     "status": "ok",
     "timestamp": 1676475309574,
     "user": {
      "displayName": "Sean Morey",
      "userId": "09649124933964159109"
     },
     "user_tz": 360
    },
    "id": "XeSjaj_CtFJi",
    "outputId": "2cfcd704-b1c9-4b8b-d566-f4bf8d10ad0c"
   },
   "outputs": [
    {
     "data": {
      "image/png": "[encoded data removed]",
      "text/plain": [
       "<Figure size 432x288 with 2 Axes>"
      ]
     },
     "metadata": {
      "needs_background": "light"
     },
     "output_type": "display_data"
    }
   ],
   "source": [
    "# Generate dummy dataset\n",
    "X, y = make_blobs(n_samples=1000, centers=2, n_features=2, random_state=78)\n",
    "\n",
    "# Creating a DataFrame with the dummy data\n",
    "df = pd.DataFrame(X, columns=[\"Feature 1\", \"Feature 2\"])\n",
    "df[\"Target\"] = y\n",
    "\n",
    "# Plotting the dummy data\n",
    "df.plot.scatter(x=\"Feature 1\", y=\"Feature 2\", c=\"Target\", colormap=\"winter\")\n",
    "plt.show()"
   ]
  },
  {
   "cell_type": "code",
   "execution_count": 8,
   "metadata": {
    "executionInfo": {
     "elapsed": 7,
     "status": "ok",
     "timestamp": 1676475309574,
     "user": {
      "displayName": "Sean Morey",
      "userId": "09649124933964159109"
     },
     "user_tz": 360
    },
    "id": "OsXCTQXutFJj"
   },
   "outputs": [],
   "source": [
    "# Use sklearn to split dataset\n",
    "from sklearn.model_selection import train_test_split\n",
    "X_train, X_test, y_train, y_test = train_test_split(X, y, random_state=78)"
   ]
  },
  {
   "cell_type": "code",
   "execution_count": 31,
   "metadata": {
    "executionInfo": {
     "elapsed": 7,
     "status": "ok",
     "timestamp": 1676475309575,
     "user": {
      "displayName": "Sean Morey",
      "userId": "09649124933964159109"
     },
     "user_tz": 360
    },
    "id": "bRLOgkXetFJj"
   },
   "outputs": [],
   "source": [
    "# Create scaler instance\n",
    "X_scaler = skl.preprocessing.StandardScaler()\n",
    "\n",
    "# Fit the scaler\n",
    "X_scaler.fit(X_train)\n",
    "\n",
    "# Scale the data\n",
    "X_train_scaled = X_scaler.transform(X_train)\n",
    "X_test_scaled = X_scaler.transform(X_test)"
   ]
  },
  {
   "cell_type": "code",
   "execution_count": 32,
   "metadata": {},
   "outputs": [
    {
     "data": {
      "text/plain": [
       "750"
      ]
     },
     "execution_count": 32,
     "metadata": {},
     "output_type": "execute_result"
    }
   ],
   "source": [
    "X_train_scaled.shape[0]"
   ]
  },
  {
   "cell_type": "code",
   "execution_count": 33,
   "metadata": {},
   "outputs": [
    {
     "data": {
      "text/plain": [
       "[750]"
      ]
     },
     "execution_count": 33,
     "metadata": {},
     "output_type": "execute_result"
    }
   ],
   "source": [
    "list(y_train.shape)"
   ]
  },
  {
   "cell_type": "code",
   "execution_count": 34,
   "metadata": {
    "executionInfo": {
     "elapsed": 7,
     "status": "ok",
     "timestamp": 1676475309575,
     "user": {
      "displayName": "Sean Morey",
      "userId": "09649124933964159109"
     },
     "user_tz": 360
    },
    "id": "MUjwJzKWtFJj"
   },
   "outputs": [],
   "source": [
    "# Create the Keras Sequential model\n",
    "nn_model = tf.keras.models.Sequential()"
   ]
  },
  {
   "cell_type": "code",
   "execution_count": 35,
   "metadata": {
    "executionInfo": {
     "elapsed": 7,
     "status": "ok",
     "timestamp": 1676475309575,
     "user": {
      "displayName": "Sean Morey",
      "userId": "09649124933964159109"
     },
     "user_tz": 360
    },
    "id": "BkUyAE0CtFJj"
   },
   "outputs": [],
   "source": [
    "# Add our first Dense layer, including the input layer\n",
    "dense1 = tf.keras.layers.Dense(input_dim=2, units=5, activation=\"relu\")\n",
    "nn_model.add(dense1)"
   ]
  },
  {
   "cell_type": "code",
   "execution_count": 36,
   "metadata": {
    "executionInfo": {
     "elapsed": 7,
     "status": "ok",
     "timestamp": 1676475309575,
     "user": {
      "displayName": "Sean Morey",
      "userId": "09649124933964159109"
     },
     "user_tz": 360
    },
    "id": "hAmxQdVCtFJj"
   },
   "outputs": [],
   "source": [
    "# Add the output layer that uses a probability activation function\n",
    "dense2 = tf.keras.layers.Dense(units=1, activation=\"sigmoid\")\n",
    "nn_model.add(dense2)"
   ]
  },
  {
   "cell_type": "code",
   "execution_count": 37,
   "metadata": {
    "colab": {
     "base_uri": "https://localhost:8080/"
    },
    "executionInfo": {
     "elapsed": 7,
     "status": "ok",
     "timestamp": 1676475309575,
     "user": {
      "displayName": "Sean Morey",
      "userId": "09649124933964159109"
     },
     "user_tz": 360
    },
    "id": "Z1KmRfoJtFJk",
    "outputId": "1e7acd2f-bc5b-453e-a151-19adcf3ef9c6"
   },
   "outputs": [
    {
     "name": "stdout",
     "output_type": "stream",
     "text": [
      "Model: \"sequential_4\"\n",
      "_________________________________________________________________\n",
      " Layer (type)                Output Shape              Param #   \n",
      "=================================================================\n",
      " dense_5 (Dense)             (None, 5)                 15        \n",
      "                                                                 \n",
      " dense_6 (Dense)             (None, 1)                 6         \n",
      "                                                                 \n",
      "=================================================================\n",
      "Total params: 21\n",
      "Trainable params: 21\n",
      "Non-trainable params: 0\n",
      "_________________________________________________________________\n"
     ]
    }
   ],
   "source": [
    "# Check the structure of the Sequential model\n",
    "nn_model.summary()"
   ]
  },
  {
   "cell_type": "code",
   "execution_count": 38,
   "metadata": {
    "colab": {
     "base_uri": "https://localhost:8080/"
    },
    "executionInfo": {
     "elapsed": 11285,
     "status": "ok",
     "timestamp": 1676475320855,
     "user": {
      "displayName": "Sean Morey",
      "userId": "09649124933964159109"
     },
     "user_tz": 360
    },
    "id": "m0zzhvO4tFJk",
    "outputId": "bbf56546-c0bd-465e-9c1a-5547fd944c7a"
   },
   "outputs": [],
   "source": [
    "# Compile the Sequential model together and customize metrics\n",
    "nn_model.compile(loss=\"binary_crossentropy\", optimizer=\"adam\", metrics=[\"accuracy\"])"
   ]
  },
  {
   "cell_type": "code",
   "execution_count": 41,
   "metadata": {
    "colab": {
     "base_uri": "https://localhost:8080/"
    },
    "executionInfo": {
     "elapsed": 11285,
     "status": "ok",
     "timestamp": 1676475320855,
     "user": {
      "displayName": "Sean Morey",
      "userId": "09649124933964159109"
     },
     "user_tz": 360
    },
    "id": "m0zzhvO4tFJk",
    "outputId": "bbf56546-c0bd-465e-9c1a-5547fd944c7a"
   },
   "outputs": [
    {
     "name": "stdout",
     "output_type": "stream",
     "text": [
      "Epoch 1/100\n",
      "24/24 [==============================] - 0s 1ms/step - loss: 0.0372 - accuracy: 1.0000\n",
      "Epoch 2/100\n",
      "24/24 [==============================] - 0s 918us/step - loss: 0.0348 - accuracy: 1.0000\n",
      "Epoch 3/100\n",
      "24/24 [==============================] - 0s 1ms/step - loss: 0.0327 - accuracy: 1.0000\n",
      "Epoch 4/100\n",
      "24/24 [==============================] - 0s 1ms/step - loss: 0.0307 - accuracy: 1.0000\n",
      "Epoch 5/100\n",
      "24/24 [==============================] - 0s 1ms/step - loss: 0.0289 - accuracy: 1.0000\n",
      "Epoch 6/100\n",
      "24/24 [==============================] - 0s 931us/step - loss: 0.0272 - accuracy: 1.0000\n",
      "Epoch 7/100\n",
      "24/24 [==============================] - 0s 930us/step - loss: 0.0257 - accuracy: 1.0000\n",
      "Epoch 8/100\n",
      "24/24 [==============================] - 0s 873us/step - loss: 0.0243 - accuracy: 1.0000\n",
      "Epoch 9/100\n",
      "24/24 [==============================] - 0s 1ms/step - loss: 0.0230 - accuracy: 1.0000\n",
      "Epoch 10/100\n",
      "24/24 [==============================] - 0s 1ms/step - loss: 0.0218 - accuracy: 1.0000\n",
      "Epoch 11/100\n",
      "24/24 [==============================] - 0s 958us/step - loss: 0.0206 - accuracy: 1.0000\n",
      "Epoch 12/100\n",
      "24/24 [==============================] - 0s 1ms/step - loss: 0.0196 - accuracy: 1.0000\n",
      "Epoch 13/100\n",
      "24/24 [==============================] - 0s 828us/step - loss: 0.0186 - accuracy: 1.0000\n",
      "Epoch 14/100\n",
      "24/24 [==============================] - 0s 871us/step - loss: 0.0177 - accuracy: 1.0000\n",
      "Epoch 15/100\n",
      "24/24 [==============================] - 0s 1ms/step - loss: 0.0169 - accuracy: 1.0000\n",
      "Epoch 16/100\n",
      "24/24 [==============================] - 0s 1ms/step - loss: 0.0161 - accuracy: 1.0000\n",
      "Epoch 17/100\n",
      "24/24 [==============================] - 0s 936us/step - loss: 0.0153 - accuracy: 1.0000\n",
      "Epoch 18/100\n",
      "24/24 [==============================] - 0s 984us/step - loss: 0.0147 - accuracy: 1.0000\n",
      "Epoch 19/100\n",
      "24/24 [==============================] - 0s 895us/step - loss: 0.0140 - accuracy: 1.0000\n",
      "Epoch 20/100\n",
      "24/24 [==============================] - 0s 914us/step - loss: 0.0134 - accuracy: 1.0000\n",
      "Epoch 21/100\n",
      "24/24 [==============================] - 0s 1ms/step - loss: 0.0128 - accuracy: 1.0000\n",
      "Epoch 22/100\n",
      "24/24 [==============================] - 0s 867us/step - loss: 0.0123 - accuracy: 1.0000\n",
      "Epoch 23/100\n",
      "24/24 [==============================] - 0s 1ms/step - loss: 0.0118 - accuracy: 1.0000\n",
      "Epoch 24/100\n",
      "24/24 [==============================] - 0s 1ms/step - loss: 0.0113 - accuracy: 1.0000\n",
      "Epoch 25/100\n",
      "24/24 [==============================] - 0s 1ms/step - loss: 0.0108 - accuracy: 1.0000\n",
      "Epoch 26/100\n",
      "24/24 [==============================] - 0s 963us/step - loss: 0.0104 - accuracy: 1.0000\n",
      "Epoch 27/100\n",
      "24/24 [==============================] - 0s 984us/step - loss: 0.0100 - accuracy: 1.0000\n",
      "Epoch 28/100\n",
      "24/24 [==============================] - 0s 980us/step - loss: 0.0096 - accuracy: 1.0000\n",
      "Epoch 29/100\n",
      "24/24 [==============================] - 0s 1ms/step - loss: 0.0093 - accuracy: 1.0000\n",
      "Epoch 30/100\n",
      "24/24 [==============================] - 0s 1ms/step - loss: 0.0089 - accuracy: 1.0000\n",
      "Epoch 31/100\n",
      "24/24 [==============================] - 0s 1ms/step - loss: 0.0086 - accuracy: 1.0000\n",
      "Epoch 32/100\n",
      "24/24 [==============================] - 0s 890us/step - loss: 0.0083 - accuracy: 1.0000\n",
      "Epoch 33/100\n",
      "24/24 [==============================] - 0s 1ms/step - loss: 0.0080 - accuracy: 1.0000\n",
      "Epoch 34/100\n",
      "24/24 [==============================] - 0s 1ms/step - loss: 0.0077 - accuracy: 1.0000\n",
      "Epoch 35/100\n",
      "24/24 [==============================] - 0s 1ms/step - loss: 0.0075 - accuracy: 1.0000\n",
      "Epoch 36/100\n",
      "24/24 [==============================] - 0s 954us/step - loss: 0.0072 - accuracy: 1.0000\n",
      "Epoch 37/100\n",
      "24/24 [==============================] - 0s 958us/step - loss: 0.0070 - accuracy: 1.0000\n",
      "Epoch 38/100\n",
      "24/24 [==============================] - 0s 871us/step - loss: 0.0067 - accuracy: 1.0000\n",
      "Epoch 39/100\n",
      "24/24 [==============================] - 0s 1ms/step - loss: 0.0065 - accuracy: 1.0000\n",
      "Epoch 40/100\n",
      "24/24 [==============================] - 0s 1ms/step - loss: 0.0063 - accuracy: 1.0000\n",
      "Epoch 41/100\n",
      "24/24 [==============================] - 0s 931us/step - loss: 0.0061 - accuracy: 1.0000\n",
      "Epoch 42/100\n",
      "24/24 [==============================] - 0s 859us/step - loss: 0.0059 - accuracy: 1.0000\n",
      "Epoch 43/100\n",
      "24/24 [==============================] - 0s 1ms/step - loss: 0.0057 - accuracy: 1.0000\n",
      "Epoch 44/100\n",
      "24/24 [==============================] - 0s 989us/step - loss: 0.0055 - accuracy: 1.0000\n",
      "Epoch 45/100\n",
      "24/24 [==============================] - 0s 827us/step - loss: 0.0054 - accuracy: 1.0000\n",
      "Epoch 46/100\n",
      "24/24 [==============================] - 0s 1ms/step - loss: 0.0052 - accuracy: 1.0000\n",
      "Epoch 47/100\n",
      "24/24 [==============================] - 0s 1ms/step - loss: 0.0051 - accuracy: 1.0000\n",
      "Epoch 48/100\n",
      "24/24 [==============================] - 0s 857us/step - loss: 0.0049 - accuracy: 1.0000\n",
      "Epoch 49/100\n",
      "24/24 [==============================] - 0s 1ms/step - loss: 0.0048 - accuracy: 1.0000\n",
      "Epoch 50/100\n",
      "24/24 [==============================] - 0s 1ms/step - loss: 0.0046 - accuracy: 1.0000\n",
      "Epoch 51/100\n",
      "24/24 [==============================] - 0s 1ms/step - loss: 0.0045 - accuracy: 1.0000\n",
      "Epoch 52/100\n",
      "24/24 [==============================] - 0s 1ms/step - loss: 0.0044 - accuracy: 1.0000\n",
      "Epoch 53/100\n",
      "24/24 [==============================] - 0s 1ms/step - loss: 0.0042 - accuracy: 1.0000\n",
      "Epoch 54/100\n",
      "24/24 [==============================] - 0s 1ms/step - loss: 0.0041 - accuracy: 1.0000\n",
      "Epoch 55/100\n",
      "24/24 [==============================] - 0s 937us/step - loss: 0.0040 - accuracy: 1.0000\n",
      "Epoch 56/100\n",
      "24/24 [==============================] - 0s 1ms/step - loss: 0.0039 - accuracy: 1.0000\n",
      "Epoch 57/100\n",
      "24/24 [==============================] - 0s 992us/step - loss: 0.0038 - accuracy: 1.0000\n",
      "Epoch 58/100\n",
      "24/24 [==============================] - 0s 907us/step - loss: 0.0037 - accuracy: 1.0000\n",
      "Epoch 59/100\n",
      "24/24 [==============================] - 0s 1ms/step - loss: 0.0036 - accuracy: 1.0000\n",
      "Epoch 60/100\n",
      "24/24 [==============================] - 0s 871us/step - loss: 0.0035 - accuracy: 1.0000\n",
      "Epoch 61/100\n",
      "24/24 [==============================] - 0s 856us/step - loss: 0.0034 - accuracy: 1.0000\n",
      "Epoch 62/100\n",
      "24/24 [==============================] - 0s 1ms/step - loss: 0.0033 - accuracy: 1.0000\n",
      "Epoch 63/100\n",
      "24/24 [==============================] - 0s 1ms/step - loss: 0.0032 - accuracy: 1.0000\n",
      "Epoch 64/100\n",
      "24/24 [==============================] - 0s 871us/step - loss: 0.0031 - accuracy: 1.0000\n",
      "Epoch 65/100\n",
      "24/24 [==============================] - 0s 979us/step - loss: 0.0031 - accuracy: 1.0000\n",
      "Epoch 66/100\n",
      "24/24 [==============================] - 0s 920us/step - loss: 0.0030 - accuracy: 1.0000\n",
      "Epoch 67/100\n",
      "24/24 [==============================] - 0s 1ms/step - loss: 0.0029 - accuracy: 1.0000\n",
      "Epoch 68/100\n",
      "24/24 [==============================] - 0s 1ms/step - loss: 0.0028 - accuracy: 1.0000\n",
      "Epoch 69/100\n",
      "24/24 [==============================] - 0s 937us/step - loss: 0.0028 - accuracy: 1.0000\n",
      "Epoch 70/100\n",
      "24/24 [==============================] - 0s 937us/step - loss: 0.0027 - accuracy: 1.0000\n",
      "Epoch 71/100\n",
      "24/24 [==============================] - 0s 1ms/step - loss: 0.0026 - accuracy: 1.0000\n",
      "Epoch 72/100\n",
      "24/24 [==============================] - 0s 871us/step - loss: 0.0026 - accuracy: 1.0000\n",
      "Epoch 73/100\n",
      "24/24 [==============================] - 0s 1ms/step - loss: 0.0025 - accuracy: 1.0000\n",
      "Epoch 74/100\n",
      "24/24 [==============================] - 0s 1ms/step - loss: 0.0025 - accuracy: 1.0000\n",
      "Epoch 75/100\n",
      "24/24 [==============================] - 0s 914us/step - loss: 0.0024 - accuracy: 1.0000\n",
      "Epoch 76/100\n",
      "24/24 [==============================] - 0s 1ms/step - loss: 0.0023 - accuracy: 1.0000\n",
      "Epoch 77/100\n",
      "24/24 [==============================] - 0s 1ms/step - loss: 0.0023 - accuracy: 1.0000\n",
      "Epoch 78/100\n",
      "24/24 [==============================] - 0s 1ms/step - loss: 0.0022 - accuracy: 1.0000\n",
      "Epoch 79/100\n",
      "24/24 [==============================] - 0s 866us/step - loss: 0.0022 - accuracy: 1.0000\n",
      "Epoch 80/100\n",
      "24/24 [==============================] - 0s 1ms/step - loss: 0.0021 - accuracy: 1.0000\n",
      "Epoch 81/100\n",
      "24/24 [==============================] - 0s 936us/step - loss: 0.0021 - accuracy: 1.0000\n",
      "Epoch 82/100\n",
      "24/24 [==============================] - 0s 913us/step - loss: 0.0020 - accuracy: 1.0000\n",
      "Epoch 83/100\n",
      "24/24 [==============================] - 0s 1ms/step - loss: 0.0020 - accuracy: 1.0000\n",
      "Epoch 84/100\n",
      "24/24 [==============================] - 0s 1ms/step - loss: 0.0019 - accuracy: 1.0000\n",
      "Epoch 85/100\n",
      "24/24 [==============================] - 0s 1ms/step - loss: 0.0019 - accuracy: 1.0000\n",
      "Epoch 86/100\n",
      "24/24 [==============================] - 0s 1ms/step - loss: 0.0019 - accuracy: 1.0000\n",
      "Epoch 87/100\n",
      "24/24 [==============================] - 0s 852us/step - loss: 0.0018 - accuracy: 1.0000\n",
      "Epoch 88/100\n",
      "24/24 [==============================] - 0s 1ms/step - loss: 0.0018 - accuracy: 1.0000\n",
      "Epoch 89/100\n",
      "24/24 [==============================] - 0s 1ms/step - loss: 0.0017 - accuracy: 1.0000\n",
      "Epoch 90/100\n",
      "24/24 [==============================] - 0s 871us/step - loss: 0.0017 - accuracy: 1.0000\n",
      "Epoch 91/100\n",
      "24/24 [==============================] - 0s 1ms/step - loss: 0.0017 - accuracy: 1.0000\n",
      "Epoch 92/100\n",
      "24/24 [==============================] - 0s 958us/step - loss: 0.0016 - accuracy: 1.0000\n",
      "Epoch 93/100\n",
      "24/24 [==============================] - 0s 958us/step - loss: 0.0016 - accuracy: 1.0000\n",
      "Epoch 94/100\n",
      "24/24 [==============================] - 0s 1ms/step - loss: 0.0016 - accuracy: 1.0000\n",
      "Epoch 95/100\n",
      "24/24 [==============================] - 0s 848us/step - loss: 0.0015 - accuracy: 1.0000\n",
      "Epoch 96/100\n",
      "24/24 [==============================] - 0s 944us/step - loss: 0.0015 - accuracy: 1.0000\n",
      "Epoch 97/100\n",
      "24/24 [==============================] - 0s 915us/step - loss: 0.0015 - accuracy: 1.0000\n",
      "Epoch 98/100\n",
      "24/24 [==============================] - 0s 1ms/step - loss: 0.0014 - accuracy: 1.0000\n",
      "Epoch 99/100\n",
      "24/24 [==============================] - 0s 901us/step - loss: 0.0014 - accuracy: 1.0000\n",
      "Epoch 100/100\n",
      "24/24 [==============================] - 0s 899us/step - loss: 0.0014 - accuracy: 1.0000\n"
     ]
    }
   ],
   "source": [
    "# Fit the model to the training data\n",
    "fit_model = nn_model.fit(X_train_scaled, y_train, epochs=100)"
   ]
  },
  {
   "cell_type": "code",
   "execution_count": 29,
   "metadata": {
    "colab": {
     "base_uri": "https://localhost:8080/",
     "height": 265
    },
    "executionInfo": {
     "elapsed": 186,
     "status": "ok",
     "timestamp": 1676475321032,
     "user": {
      "displayName": "Sean Morey",
      "userId": "09649124933964159109"
     },
     "user_tz": 360
    },
    "id": "pPtmHLRutFJk",
    "outputId": "be803544-623c-41c2-ac40-751e6ed0d01d"
   },
   "outputs": [
    {
     "data": {
      "image/png": "[encoded data removed]",
      "text/plain": [
       "<Figure size 432x288 with 1 Axes>"
      ]
     },
     "metadata": {
      "needs_background": "light"
     },
     "output_type": "display_data"
    }
   ],
   "source": [
    "# Create a DataFrame containing training history\n",
    "history_df = pd.DataFrame(fit_model.history)\n",
    "\n",
    "# Increase the index by 1 to match the number of epochs\n",
    "history_df.index += 1\n",
    "\n",
    "# Plot the loss\n",
    "history_df.plot(y=\"loss\")\n",
    "plt.show()"
   ]
  },
  {
   "cell_type": "code",
   "execution_count": 21,
   "metadata": {
    "colab": {
     "base_uri": "https://localhost:8080/",
     "height": 265
    },
    "executionInfo": {
     "elapsed": 429,
     "status": "ok",
     "timestamp": 1676475321459,
     "user": {
      "displayName": "Sean Morey",
      "userId": "09649124933964159109"
     },
     "user_tz": 360
    },
    "id": "ijvAVCfhtFJk",
    "outputId": "d2bdf3db-ea17-4783-f7c5-fea21c65fb9c"
   },
   "outputs": [
    {
     "data": {
      "image/png": "[encoded data removed]",
      "text/plain": [
       "<Figure size 432x288 with 1 Axes>"
      ]
     },
     "metadata": {
      "needs_background": "light"
     },
     "output_type": "display_data"
    }
   ],
   "source": [
    "# Plot the accuracy\n",
    "history_df.plot(y=\"accuracy\")\n",
    "plt.show()"
   ]
  },
  {
   "cell_type": "code",
   "execution_count": 40,
   "metadata": {
    "colab": {
     "base_uri": "https://localhost:8080/"
    },
    "executionInfo": {
     "elapsed": 764,
     "status": "ok",
     "timestamp": 1676475322220,
     "user": {
      "displayName": "Sean Morey",
      "userId": "09649124933964159109"
     },
     "user_tz": 360
    },
    "id": "GBvatzq0tFJl",
    "outputId": "8e4abd1b-c287-49ca-ae76-f7febed168d3"
   },
   "outputs": [
    {
     "name": "stdout",
     "output_type": "stream",
     "text": [
      "8/8 - 0s - loss: 0.0352 - accuracy: 1.0000 - 147ms/epoch - 18ms/step\n",
      "Loss: 0.0351865328848362, Accuracy: 1.0\n"
     ]
    }
   ],
   "source": [
    "# Evaluate the model using the test data\n",
    "model_loss, model_accuracy = nn_model.evaluate(X_test_scaled,y_test,verbose=2)\n",
    "print(f\"Loss: {model_loss}, Accuracy: {model_accuracy}\")"
   ]
  },
  {
   "cell_type": "markdown",
   "metadata": {},
   "source": [
    "# =========================================="
   ]
  },
  {
   "cell_type": "markdown",
   "metadata": {},
   "source": [
    "### 1.03 Student Do: BYONNM - Build Your Own Neural Network Model (0:20)"
   ]
  },
  {
   "cell_type": "markdown",
   "metadata": {},
   "source": [
    "# Bring Your Own Neural Network Model\n",
    "In this activity, you'll use a neural network model to classify the data from `make_blobs`.\n",
    "## Instructions\n",
    "\n",
    "  * Using the starter code provided, visualize the blobs dummy dataset using a Pandas scatter plot.\n",
    "  * Randomly split the dummy data into training and test datasets using scikit-learn's `train_test_split` method.\n",
    "  * Normalize both datasets using scikit-learn's `StandardScaler` class.\n",
    "  * Using the Keras module, create a basic neural network with five neurons in the hidden layer.\n",
    "    * **Note:** Your neural network should use two inputs and produce one classification output.\n",
    "  * Compile your basic neural network model.\n",
    "  * Train the neural network model over 50 epochs.\n",
    "  * Evaluate the performance of your model by printing your test loss metric and determining the predictive accuracy of the model on the test dataset.\n",
    "\n",
    "## Bonus\n",
    "\n",
    "* Create a new neural network with a different number of neurons.\n",
    "* Train the new neural network model on the same training data and test the performance on the same testing dataset.\n",
    "* Create a line plot that visualizes the neural network predictive accuracy over each epoch.\n",
    "\n",
    "---"
   ]
  },
  {
   "cell_type": "code",
   "execution_count": 50,
   "metadata": {
    "executionInfo": {
     "elapsed": 13041,
     "status": "ok",
     "timestamp": 1676475603053,
     "user": {
      "displayName": "Sean Morey",
      "userId": "09649124933964159109"
     },
     "user_tz": 360
    },
    "id": "1f4FViTSumj7"
   },
   "outputs": [],
   "source": [
    "# Import our dependencies\n",
    "import pandas as pd\n",
    "import matplotlib.pyplot as plt\n",
    "from sklearn.datasets import make_blobs\n",
    "import sklearn as skl\n",
    "import tensorflow as tf"
   ]
  },
  {
   "cell_type": "code",
   "execution_count": 51,
   "metadata": {
    "colab": {
     "base_uri": "https://localhost:8080/",
     "height": 258
    },
    "executionInfo": {
     "elapsed": 2105,
     "status": "ok",
     "timestamp": 1676475605144,
     "user": {
      "displayName": "Sean Morey",
      "userId": "09649124933964159109"
     },
     "user_tz": 360
    },
    "id": "fCo-4G1zumj8",
    "outputId": "5e5f745d-3aba-4b54-8e38-0b646a99c191"
   },
   "outputs": [
    {
     "data": {
      "image/png": "[encoded data removed]",
      "text/plain": [
       "<Figure size 432x288 with 2 Axes>"
      ]
     },
     "metadata": {
      "needs_background": "light"
     },
     "output_type": "display_data"
    }
   ],
   "source": [
    "# Generate dummy dataset\n",
    "X, y = make_blobs(n_samples=5000, centers=2, n_features=2, random_state=42, cluster_std=3)\n",
    "\n",
    "# Creating a DataFrame with the dummy data\n",
    "df = pd.DataFrame(X, columns=[\"Feature 1\", \"Feature 2\"])\n",
    "df[\"Target\"] = y\n",
    "\n",
    "# Plotting the dummy data\n",
    "df.plot.scatter(x=\"Feature 1\", y=\"Feature 2\", c=\"Target\", colormap=\"winter\")\n",
    "plt.show()"
   ]
  },
  {
   "cell_type": "code",
   "execution_count": 52,
   "metadata": {
    "executionInfo": {
     "elapsed": 214,
     "status": "ok",
     "timestamp": 1676475605355,
     "user": {
      "displayName": "Sean Morey",
      "userId": "09649124933964159109"
     },
     "user_tz": 360
    },
    "id": "WzwghFMKumj8"
   },
   "outputs": [],
   "source": [
    "# Use sklearn to split dataset\n",
    "from sklearn.model_selection import train_test_split\n",
    "X_train, X_test, y_train, y_test = train_test_split(X, y, random_state=78)"
   ]
  },
  {
   "cell_type": "code",
   "execution_count": 53,
   "metadata": {
    "executionInfo": {
     "elapsed": 2,
     "status": "ok",
     "timestamp": 1676475605355,
     "user": {
      "displayName": "Sean Morey",
      "userId": "09649124933964159109"
     },
     "user_tz": 360
    },
    "id": "4K8kECfHumj8"
   },
   "outputs": [],
   "source": [
    "# Create scaler instance\n",
    "X_scaler = skl.preprocessing.StandardScaler()\n",
    "\n",
    "# Fit the scaler\n",
    "X_scaler.fit(X_train)\n",
    "\n",
    "# Scale the data\n",
    "X_train_scaled = X_scaler.transform(X_train)\n",
    "X_test_scaled = X_scaler.transform(X_test)"
   ]
  },
  {
   "cell_type": "code",
   "execution_count": 80,
   "metadata": {
    "executionInfo": {
     "elapsed": 767,
     "status": "ok",
     "timestamp": 1676475606120,
     "user": {
      "displayName": "Sean Morey",
      "userId": "09649124933964159109"
     },
     "user_tz": 360
    },
    "id": "jFS6nKVzumj8"
   },
   "outputs": [],
   "source": [
    "# Create the Keras Sequential model\n",
    "nn_model = tf.keras.models.Sequential()"
   ]
  },
  {
   "cell_type": "code",
   "execution_count": 81,
   "metadata": {
    "executionInfo": {
     "elapsed": 203,
     "status": "ok",
     "timestamp": 1676475606322,
     "user": {
      "displayName": "Sean Morey",
      "userId": "09649124933964159109"
     },
     "user_tz": 360
    },
    "id": "uBMHKBRQumj9"
   },
   "outputs": [],
   "source": [
    "# Add our first Dense layer, including the input layer\n",
    "nn_model.add(tf.keras.layers.Dense(units=50, activation=\"relu\", input_dim=2))\n",
    "nn_model.add(tf.keras.layers.Dense(units=25, activation=\"relu\"))\n",
    "nn_model.add(tf.keras.layers.Dense(units=20, activation=\"relu\"))\n",
    "nn_model.add(tf.keras.layers.Dense(units=10, activation=\"relu\"))\n",
    "nn_model.add(tf.keras.layers.Dense(units=5, activation=\"relu\"))"
   ]
  },
  {
   "cell_type": "code",
   "execution_count": 82,
   "metadata": {
    "executionInfo": {
     "elapsed": 6,
     "status": "ok",
     "timestamp": 1676475606322,
     "user": {
      "displayName": "Sean Morey",
      "userId": "09649124933964159109"
     },
     "user_tz": 360
    },
    "id": "eRCyTSakumj9"
   },
   "outputs": [],
   "source": [
    "# Add the output layer that uses a probability activation function\n",
    "nn_model.add(tf.keras.layers.Dense(units=1, activation=\"sigmoid\"))"
   ]
  },
  {
   "cell_type": "code",
   "execution_count": 83,
   "metadata": {},
   "outputs": [],
   "source": [
    "# tf.keras.losses"
   ]
  },
  {
   "cell_type": "code",
   "execution_count": 84,
   "metadata": {
    "colab": {
     "base_uri": "https://localhost:8080/"
    },
    "executionInfo": {
     "elapsed": 5,
     "status": "ok",
     "timestamp": 1676475606322,
     "user": {
      "displayName": "Sean Morey",
      "userId": "09649124933964159109"
     },
     "user_tz": 360
    },
    "id": "QchORD7Xumj9",
    "outputId": "c4584747-12eb-4636-b52f-e12e6884481b"
   },
   "outputs": [
    {
     "name": "stdout",
     "output_type": "stream",
     "text": [
      "Model: \"sequential_9\"\n",
      "_________________________________________________________________\n",
      " Layer (type)                Output Shape              Param #   \n",
      "=================================================================\n",
      " dense_17 (Dense)            (None, 50)                150       \n",
      "                                                                 \n",
      " dense_18 (Dense)            (None, 25)                1275      \n",
      "                                                                 \n",
      " dense_19 (Dense)            (None, 20)                520       \n",
      "                                                                 \n",
      " dense_20 (Dense)            (None, 10)                210       \n",
      "                                                                 \n",
      " dense_21 (Dense)            (None, 5)                 55        \n",
      "                                                                 \n",
      " dense_22 (Dense)            (None, 1)                 6         \n",
      "                                                                 \n",
      "=================================================================\n",
      "Total params: 2,216\n",
      "Trainable params: 2,216\n",
      "Non-trainable params: 0\n",
      "_________________________________________________________________\n"
     ]
    }
   ],
   "source": [
    "# Check the structure of the Sequential model\n",
    "nn_model.summary()"
   ]
  },
  {
   "cell_type": "code",
   "execution_count": null,
   "metadata": {},
   "outputs": [],
   "source": []
  },
  {
   "cell_type": "code",
   "execution_count": 85,
   "metadata": {
    "executionInfo": {
     "elapsed": 4,
     "status": "ok",
     "timestamp": 1676475606323,
     "user": {
      "displayName": "Sean Morey",
      "userId": "09649124933964159109"
     },
     "user_tz": 360
    },
    "id": "XaNBPyU3umj9"
   },
   "outputs": [],
   "source": [
    "# Compile the Sequential model together and customize metrics\n",
    "nn_model.compile(loss=\"binary_crossentropy\", optimizer=\"adam\", metrics=[\"accuracy\"])"
   ]
  },
  {
   "cell_type": "code",
   "execution_count": 87,
   "metadata": {
    "colab": {
     "base_uri": "https://localhost:8080/"
    },
    "executionInfo": {
     "elapsed": 44367,
     "status": "ok",
     "timestamp": 1676475650686,
     "user": {
      "displayName": "Sean Morey",
      "userId": "09649124933964159109"
     },
     "user_tz": 360
    },
    "id": "SwVsMHquumj9",
    "outputId": "c72dacf3-bb9d-42d5-d533-1848ddbebd0f"
   },
   "outputs": [
    {
     "name": "stdout",
     "output_type": "stream",
     "text": [
      "Epoch 1/200\n",
      "118/118 [==============================] - 0s 1ms/step - loss: 0.1339 - accuracy: 0.9520\n",
      "Epoch 2/200\n",
      "118/118 [==============================] - 0s 1ms/step - loss: 0.1330 - accuracy: 0.9517\n",
      "Epoch 3/200\n",
      "118/118 [==============================] - 0s 1ms/step - loss: 0.1321 - accuracy: 0.9509\n",
      "Epoch 4/200\n",
      "118/118 [==============================] - 0s 1ms/step - loss: 0.1323 - accuracy: 0.9504\n",
      "Epoch 5/200\n",
      "118/118 [==============================] - 0s 1ms/step - loss: 0.1324 - accuracy: 0.9512\n",
      "Epoch 6/200\n",
      "118/118 [==============================] - 0s 1ms/step - loss: 0.1301 - accuracy: 0.9512\n",
      "Epoch 7/200\n",
      "118/118 [==============================] - 0s 1ms/step - loss: 0.1318 - accuracy: 0.9520\n",
      "Epoch 8/200\n",
      "118/118 [==============================] - 0s 1ms/step - loss: 0.1301 - accuracy: 0.9533\n",
      "Epoch 9/200\n",
      "118/118 [==============================] - 0s 1ms/step - loss: 0.1307 - accuracy: 0.9509\n",
      "Epoch 10/200\n",
      "118/118 [==============================] - 0s 1ms/step - loss: 0.1299 - accuracy: 0.9515\n",
      "Epoch 11/200\n",
      "118/118 [==============================] - 0s 1ms/step - loss: 0.1310 - accuracy: 0.9499\n",
      "Epoch 12/200\n",
      "118/118 [==============================] - 0s 1ms/step - loss: 0.1290 - accuracy: 0.9504\n",
      "Epoch 13/200\n",
      "118/118 [==============================] - 0s 1ms/step - loss: 0.1291 - accuracy: 0.9517\n",
      "Epoch 14/200\n",
      "118/118 [==============================] - 0s 1ms/step - loss: 0.1288 - accuracy: 0.9509\n",
      "Epoch 15/200\n",
      "118/118 [==============================] - 0s 1ms/step - loss: 0.1283 - accuracy: 0.9515\n",
      "Epoch 16/200\n",
      "118/118 [==============================] - 0s 1ms/step - loss: 0.1279 - accuracy: 0.9520\n",
      "Epoch 17/200\n",
      "118/118 [==============================] - 0s 1ms/step - loss: 0.1274 - accuracy: 0.9507\n",
      "Epoch 18/200\n",
      "118/118 [==============================] - 0s 1ms/step - loss: 0.1286 - accuracy: 0.9525\n",
      "Epoch 19/200\n",
      "118/118 [==============================] - 0s 1ms/step - loss: 0.1271 - accuracy: 0.9509\n",
      "Epoch 20/200\n",
      "118/118 [==============================] - 0s 1ms/step - loss: 0.1274 - accuracy: 0.9509\n",
      "Epoch 21/200\n",
      "118/118 [==============================] - 0s 1ms/step - loss: 0.1267 - accuracy: 0.9509\n",
      "Epoch 22/200\n",
      "118/118 [==============================] - 0s 1ms/step - loss: 0.1258 - accuracy: 0.9520\n",
      "Epoch 23/200\n",
      "118/118 [==============================] - 0s 1ms/step - loss: 0.1264 - accuracy: 0.9507\n",
      "Epoch 24/200\n",
      "118/118 [==============================] - 0s 1ms/step - loss: 0.1264 - accuracy: 0.9523\n",
      "Epoch 25/200\n",
      "118/118 [==============================] - 0s 1ms/step - loss: 0.1262 - accuracy: 0.9525\n",
      "Epoch 26/200\n",
      "118/118 [==============================] - 0s 1ms/step - loss: 0.1264 - accuracy: 0.9507\n",
      "Epoch 27/200\n",
      "118/118 [==============================] - 0s 1ms/step - loss: 0.1259 - accuracy: 0.9520\n",
      "Epoch 28/200\n",
      "118/118 [==============================] - 0s 1ms/step - loss: 0.1252 - accuracy: 0.9493\n",
      "Epoch 29/200\n",
      "118/118 [==============================] - 0s 1ms/step - loss: 0.1259 - accuracy: 0.9523\n",
      "Epoch 30/200\n",
      "118/118 [==============================] - 0s 1ms/step - loss: 0.1259 - accuracy: 0.9512\n",
      "Epoch 31/200\n",
      "118/118 [==============================] - 0s 1ms/step - loss: 0.1253 - accuracy: 0.9512\n",
      "Epoch 32/200\n",
      "118/118 [==============================] - 0s 1ms/step - loss: 0.1247 - accuracy: 0.9515\n",
      "Epoch 33/200\n",
      "118/118 [==============================] - 0s 1ms/step - loss: 0.1249 - accuracy: 0.9517\n",
      "Epoch 34/200\n",
      "118/118 [==============================] - 0s 1ms/step - loss: 0.1250 - accuracy: 0.9539\n",
      "Epoch 35/200\n",
      "118/118 [==============================] - 0s 1ms/step - loss: 0.1258 - accuracy: 0.9531\n",
      "Epoch 36/200\n",
      "118/118 [==============================] - 0s 1ms/step - loss: 0.1251 - accuracy: 0.9533\n",
      "Epoch 37/200\n",
      "118/118 [==============================] - 0s 1ms/step - loss: 0.1244 - accuracy: 0.9525\n",
      "Epoch 38/200\n",
      "118/118 [==============================] - 0s 1ms/step - loss: 0.1247 - accuracy: 0.9496\n",
      "Epoch 39/200\n",
      "118/118 [==============================] - 0s 1ms/step - loss: 0.1236 - accuracy: 0.9515\n",
      "Epoch 40/200\n",
      "118/118 [==============================] - 0s 1ms/step - loss: 0.1238 - accuracy: 0.9515\n",
      "Epoch 41/200\n",
      "118/118 [==============================] - 0s 1ms/step - loss: 0.1238 - accuracy: 0.9512\n",
      "Epoch 42/200\n",
      "118/118 [==============================] - 0s 1ms/step - loss: 0.1242 - accuracy: 0.9525\n",
      "Epoch 43/200\n",
      "118/118 [==============================] - 0s 1ms/step - loss: 0.1238 - accuracy: 0.9520\n",
      "Epoch 44/200\n",
      "118/118 [==============================] - 0s 1ms/step - loss: 0.1241 - accuracy: 0.9520\n",
      "Epoch 45/200\n",
      "118/118 [==============================] - 0s 1ms/step - loss: 0.1234 - accuracy: 0.9517\n",
      "Epoch 46/200\n",
      "118/118 [==============================] - 0s 1ms/step - loss: 0.1227 - accuracy: 0.9517\n",
      "Epoch 47/200\n",
      "118/118 [==============================] - 0s 1ms/step - loss: 0.1247 - accuracy: 0.9501\n",
      "Epoch 48/200\n",
      "118/118 [==============================] - 0s 1ms/step - loss: 0.1239 - accuracy: 0.9509\n",
      "Epoch 49/200\n",
      "118/118 [==============================] - 0s 1ms/step - loss: 0.1236 - accuracy: 0.9523\n",
      "Epoch 50/200\n",
      "118/118 [==============================] - 0s 1ms/step - loss: 0.1230 - accuracy: 0.9539\n",
      "Epoch 51/200\n",
      "118/118 [==============================] - 0s 1ms/step - loss: 0.1227 - accuracy: 0.9520\n",
      "Epoch 52/200\n",
      "118/118 [==============================] - 0s 1ms/step - loss: 0.1225 - accuracy: 0.9531\n",
      "Epoch 53/200\n",
      "118/118 [==============================] - 0s 1ms/step - loss: 0.1227 - accuracy: 0.9509\n",
      "Epoch 54/200\n",
      "118/118 [==============================] - 0s 1ms/step - loss: 0.1231 - accuracy: 0.9515\n",
      "Epoch 55/200\n",
      "118/118 [==============================] - 0s 1ms/step - loss: 0.1233 - accuracy: 0.9523\n",
      "Epoch 56/200\n",
      "118/118 [==============================] - 0s 1ms/step - loss: 0.1229 - accuracy: 0.9512\n",
      "Epoch 57/200\n",
      "118/118 [==============================] - 0s 1ms/step - loss: 0.1233 - accuracy: 0.9541\n",
      "Epoch 58/200\n",
      "118/118 [==============================] - 0s 1ms/step - loss: 0.1231 - accuracy: 0.9509\n",
      "Epoch 59/200\n",
      "118/118 [==============================] - 0s 1ms/step - loss: 0.1222 - accuracy: 0.9515\n",
      "Epoch 60/200\n",
      "118/118 [==============================] - 0s 1ms/step - loss: 0.1225 - accuracy: 0.9531\n",
      "Epoch 61/200\n",
      "118/118 [==============================] - 0s 1ms/step - loss: 0.1224 - accuracy: 0.9539\n",
      "Epoch 62/200\n",
      "118/118 [==============================] - 0s 1ms/step - loss: 0.1220 - accuracy: 0.9517\n",
      "Epoch 63/200\n",
      "118/118 [==============================] - 0s 1ms/step - loss: 0.1222 - accuracy: 0.9525\n",
      "Epoch 64/200\n",
      "118/118 [==============================] - 0s 1ms/step - loss: 0.1228 - accuracy: 0.9523\n",
      "Epoch 65/200\n",
      "118/118 [==============================] - 0s 1ms/step - loss: 0.1219 - accuracy: 0.9520\n",
      "Epoch 66/200\n",
      "118/118 [==============================] - 0s 1ms/step - loss: 0.1220 - accuracy: 0.9515\n",
      "Epoch 67/200\n",
      "118/118 [==============================] - 0s 1ms/step - loss: 0.1225 - accuracy: 0.9504\n",
      "Epoch 68/200\n",
      "118/118 [==============================] - 0s 1ms/step - loss: 0.1230 - accuracy: 0.9525\n",
      "Epoch 69/200\n",
      "118/118 [==============================] - 0s 1ms/step - loss: 0.1225 - accuracy: 0.9517\n",
      "Epoch 70/200\n",
      "118/118 [==============================] - 0s 1ms/step - loss: 0.1220 - accuracy: 0.9512\n",
      "Epoch 71/200\n",
      "118/118 [==============================] - 0s 1ms/step - loss: 0.1226 - accuracy: 0.9515\n",
      "Epoch 72/200\n",
      "118/118 [==============================] - 0s 1ms/step - loss: 0.1221 - accuracy: 0.9525\n",
      "Epoch 73/200\n",
      "118/118 [==============================] - 0s 1ms/step - loss: 0.1206 - accuracy: 0.9515\n",
      "Epoch 74/200\n",
      "118/118 [==============================] - 0s 1ms/step - loss: 0.1219 - accuracy: 0.9525\n",
      "Epoch 75/200\n",
      "118/118 [==============================] - 0s 1ms/step - loss: 0.1224 - accuracy: 0.9531\n",
      "Epoch 76/200\n",
      "118/118 [==============================] - 0s 1ms/step - loss: 0.1213 - accuracy: 0.9517\n",
      "Epoch 77/200\n",
      "118/118 [==============================] - 0s 1ms/step - loss: 0.1211 - accuracy: 0.9512\n",
      "Epoch 78/200\n",
      "118/118 [==============================] - 0s 1ms/step - loss: 0.1214 - accuracy: 0.9517\n",
      "Epoch 79/200\n",
      "118/118 [==============================] - 0s 1ms/step - loss: 0.1213 - accuracy: 0.9523\n",
      "Epoch 80/200\n",
      "118/118 [==============================] - 0s 1ms/step - loss: 0.1228 - accuracy: 0.9523\n",
      "Epoch 81/200\n",
      "118/118 [==============================] - 0s 1ms/step - loss: 0.1208 - accuracy: 0.9517\n",
      "Epoch 82/200\n",
      "118/118 [==============================] - 0s 1ms/step - loss: 0.1212 - accuracy: 0.9507\n",
      "Epoch 83/200\n",
      "118/118 [==============================] - 0s 1ms/step - loss: 0.1222 - accuracy: 0.9536\n",
      "Epoch 84/200\n",
      "118/118 [==============================] - 0s 1ms/step - loss: 0.1208 - accuracy: 0.9507\n",
      "Epoch 85/200\n",
      "118/118 [==============================] - 0s 1ms/step - loss: 0.1211 - accuracy: 0.9507\n",
      "Epoch 86/200\n",
      "118/118 [==============================] - 0s 1ms/step - loss: 0.1206 - accuracy: 0.9520\n",
      "Epoch 87/200\n",
      "118/118 [==============================] - 0s 1ms/step - loss: 0.1213 - accuracy: 0.9536\n",
      "Epoch 88/200\n",
      "118/118 [==============================] - 0s 1ms/step - loss: 0.1218 - accuracy: 0.9520\n",
      "Epoch 89/200\n",
      "118/118 [==============================] - 0s 1ms/step - loss: 0.1207 - accuracy: 0.9515\n",
      "Epoch 90/200\n",
      "118/118 [==============================] - 0s 1ms/step - loss: 0.1201 - accuracy: 0.9536\n",
      "Epoch 91/200\n",
      "118/118 [==============================] - 0s 1ms/step - loss: 0.1204 - accuracy: 0.9528\n",
      "Epoch 92/200\n",
      "118/118 [==============================] - 0s 1ms/step - loss: 0.1220 - accuracy: 0.9499\n",
      "Epoch 93/200\n",
      "118/118 [==============================] - 0s 1ms/step - loss: 0.1212 - accuracy: 0.9517\n",
      "Epoch 94/200\n",
      "118/118 [==============================] - 0s 1ms/step - loss: 0.1209 - accuracy: 0.9536\n",
      "Epoch 95/200\n",
      "118/118 [==============================] - 0s 1ms/step - loss: 0.1197 - accuracy: 0.9541\n",
      "Epoch 96/200\n",
      "118/118 [==============================] - 0s 1ms/step - loss: 0.1203 - accuracy: 0.9531\n",
      "Epoch 97/200\n",
      "118/118 [==============================] - 0s 1ms/step - loss: 0.1211 - accuracy: 0.9520\n",
      "Epoch 98/200\n",
      "118/118 [==============================] - 0s 1ms/step - loss: 0.1204 - accuracy: 0.9541\n",
      "Epoch 99/200\n",
      "118/118 [==============================] - 0s 1ms/step - loss: 0.1206 - accuracy: 0.9517\n",
      "Epoch 100/200\n",
      "118/118 [==============================] - 0s 1ms/step - loss: 0.1200 - accuracy: 0.9517\n",
      "Epoch 101/200\n",
      "118/118 [==============================] - 0s 1ms/step - loss: 0.1201 - accuracy: 0.9520\n",
      "Epoch 102/200\n",
      "118/118 [==============================] - 0s 1ms/step - loss: 0.1199 - accuracy: 0.9525\n",
      "Epoch 103/200\n",
      "118/118 [==============================] - 0s 1ms/step - loss: 0.1194 - accuracy: 0.9541\n",
      "Epoch 104/200\n",
      "118/118 [==============================] - 0s 1ms/step - loss: 0.1207 - accuracy: 0.9512\n",
      "Epoch 105/200\n",
      "118/118 [==============================] - 0s 1ms/step - loss: 0.1193 - accuracy: 0.9517\n",
      "Epoch 106/200\n",
      "118/118 [==============================] - 0s 1ms/step - loss: 0.1201 - accuracy: 0.9525\n",
      "Epoch 107/200\n",
      "118/118 [==============================] - 0s 1ms/step - loss: 0.1211 - accuracy: 0.9533\n",
      "Epoch 108/200\n",
      "118/118 [==============================] - 0s 1ms/step - loss: 0.1204 - accuracy: 0.9520\n",
      "Epoch 109/200\n",
      "118/118 [==============================] - 0s 1ms/step - loss: 0.1200 - accuracy: 0.9523\n",
      "Epoch 110/200\n",
      "118/118 [==============================] - 0s 1ms/step - loss: 0.1206 - accuracy: 0.9507\n",
      "Epoch 111/200\n",
      "118/118 [==============================] - 0s 1ms/step - loss: 0.1202 - accuracy: 0.9528\n",
      "Epoch 112/200\n",
      "118/118 [==============================] - 0s 1ms/step - loss: 0.1195 - accuracy: 0.9515\n",
      "Epoch 113/200\n",
      "118/118 [==============================] - 0s 1ms/step - loss: 0.1194 - accuracy: 0.9531\n",
      "Epoch 114/200\n",
      "118/118 [==============================] - 0s 1ms/step - loss: 0.1190 - accuracy: 0.9525\n",
      "Epoch 115/200\n",
      "118/118 [==============================] - 0s 1ms/step - loss: 0.1200 - accuracy: 0.9528\n",
      "Epoch 116/200\n",
      "118/118 [==============================] - 0s 1ms/step - loss: 0.1201 - accuracy: 0.9523\n",
      "Epoch 117/200\n",
      "118/118 [==============================] - 0s 1ms/step - loss: 0.1196 - accuracy: 0.9536\n",
      "Epoch 118/200\n",
      "118/118 [==============================] - 0s 1ms/step - loss: 0.1205 - accuracy: 0.9520\n",
      "Epoch 119/200\n",
      "118/118 [==============================] - 0s 1ms/step - loss: 0.1196 - accuracy: 0.9525\n",
      "Epoch 120/200\n",
      "118/118 [==============================] - 0s 1ms/step - loss: 0.1191 - accuracy: 0.9523\n",
      "Epoch 121/200\n",
      "118/118 [==============================] - 0s 1ms/step - loss: 0.1199 - accuracy: 0.9525\n",
      "Epoch 122/200\n",
      "118/118 [==============================] - 0s 1ms/step - loss: 0.1193 - accuracy: 0.9531\n",
      "Epoch 123/200\n",
      "118/118 [==============================] - 0s 1ms/step - loss: 0.1206 - accuracy: 0.9507\n",
      "Epoch 124/200\n",
      "118/118 [==============================] - 0s 1ms/step - loss: 0.1187 - accuracy: 0.9547\n",
      "Epoch 125/200\n",
      "118/118 [==============================] - 0s 1ms/step - loss: 0.1186 - accuracy: 0.9523\n",
      "Epoch 126/200\n",
      "118/118 [==============================] - 0s 1ms/step - loss: 0.1190 - accuracy: 0.9528\n",
      "Epoch 127/200\n",
      "118/118 [==============================] - 0s 1ms/step - loss: 0.1191 - accuracy: 0.9533\n",
      "Epoch 128/200\n",
      "118/118 [==============================] - 0s 1ms/step - loss: 0.1187 - accuracy: 0.9536\n",
      "Epoch 129/200\n",
      "118/118 [==============================] - 0s 1ms/step - loss: 0.1196 - accuracy: 0.9541\n",
      "Epoch 130/200\n",
      "118/118 [==============================] - 0s 1ms/step - loss: 0.1197 - accuracy: 0.9531\n",
      "Epoch 131/200\n",
      "118/118 [==============================] - 0s 1ms/step - loss: 0.1194 - accuracy: 0.9539\n",
      "Epoch 132/200\n",
      "118/118 [==============================] - 0s 1ms/step - loss: 0.1186 - accuracy: 0.9541\n",
      "Epoch 133/200\n",
      "118/118 [==============================] - 0s 1ms/step - loss: 0.1184 - accuracy: 0.9544\n",
      "Epoch 134/200\n",
      "118/118 [==============================] - 0s 1ms/step - loss: 0.1192 - accuracy: 0.9528\n",
      "Epoch 135/200\n",
      "118/118 [==============================] - 0s 1ms/step - loss: 0.1195 - accuracy: 0.9523\n",
      "Epoch 136/200\n",
      "118/118 [==============================] - 0s 1ms/step - loss: 0.1190 - accuracy: 0.9536\n",
      "Epoch 137/200\n",
      "118/118 [==============================] - 0s 1ms/step - loss: 0.1188 - accuracy: 0.9528\n",
      "Epoch 138/200\n",
      "118/118 [==============================] - 0s 1ms/step - loss: 0.1181 - accuracy: 0.9525\n",
      "Epoch 139/200\n",
      "118/118 [==============================] - 0s 1ms/step - loss: 0.1182 - accuracy: 0.9544\n",
      "Epoch 140/200\n",
      "118/118 [==============================] - 0s 1ms/step - loss: 0.1188 - accuracy: 0.9515\n",
      "Epoch 141/200\n",
      "118/118 [==============================] - 0s 1ms/step - loss: 0.1200 - accuracy: 0.9528\n",
      "Epoch 142/200\n",
      "118/118 [==============================] - 0s 1ms/step - loss: 0.1190 - accuracy: 0.9520\n",
      "Epoch 143/200\n",
      "118/118 [==============================] - 0s 1ms/step - loss: 0.1194 - accuracy: 0.9523\n",
      "Epoch 144/200\n",
      "118/118 [==============================] - 0s 1ms/step - loss: 0.1192 - accuracy: 0.9531\n",
      "Epoch 145/200\n",
      "118/118 [==============================] - 0s 1ms/step - loss: 0.1192 - accuracy: 0.9512\n",
      "Epoch 146/200\n",
      "118/118 [==============================] - 0s 1ms/step - loss: 0.1184 - accuracy: 0.9533\n",
      "Epoch 147/200\n",
      "118/118 [==============================] - 0s 1ms/step - loss: 0.1181 - accuracy: 0.9509\n",
      "Epoch 148/200\n",
      "118/118 [==============================] - 0s 1ms/step - loss: 0.1181 - accuracy: 0.9541\n",
      "Epoch 149/200\n",
      "118/118 [==============================] - 0s 1ms/step - loss: 0.1186 - accuracy: 0.9547\n",
      "Epoch 150/200\n",
      "118/118 [==============================] - 0s 1ms/step - loss: 0.1187 - accuracy: 0.9528\n",
      "Epoch 151/200\n",
      "118/118 [==============================] - 0s 2ms/step - loss: 0.1182 - accuracy: 0.9539\n",
      "Epoch 152/200\n",
      "118/118 [==============================] - 0s 1ms/step - loss: 0.1184 - accuracy: 0.9523\n",
      "Epoch 153/200\n",
      "118/118 [==============================] - 0s 1ms/step - loss: 0.1187 - accuracy: 0.9509\n",
      "Epoch 154/200\n",
      "118/118 [==============================] - 0s 1ms/step - loss: 0.1186 - accuracy: 0.9541\n",
      "Epoch 155/200\n",
      "118/118 [==============================] - 0s 1ms/step - loss: 0.1178 - accuracy: 0.9523\n",
      "Epoch 156/200\n",
      "118/118 [==============================] - 0s 1ms/step - loss: 0.1180 - accuracy: 0.9539\n",
      "Epoch 157/200\n",
      "118/118 [==============================] - 0s 1ms/step - loss: 0.1184 - accuracy: 0.9539\n",
      "Epoch 158/200\n",
      "118/118 [==============================] - 0s 1ms/step - loss: 0.1191 - accuracy: 0.9536\n",
      "Epoch 159/200\n",
      "118/118 [==============================] - 0s 1ms/step - loss: 0.1182 - accuracy: 0.9536\n",
      "Epoch 160/200\n",
      "118/118 [==============================] - 0s 1ms/step - loss: 0.1187 - accuracy: 0.9517\n",
      "Epoch 161/200\n",
      "118/118 [==============================] - 0s 1ms/step - loss: 0.1176 - accuracy: 0.9536\n",
      "Epoch 162/200\n",
      "118/118 [==============================] - 0s 1ms/step - loss: 0.1176 - accuracy: 0.9539\n",
      "Epoch 163/200\n",
      "118/118 [==============================] - 0s 1ms/step - loss: 0.1189 - accuracy: 0.9547\n",
      "Epoch 164/200\n",
      "118/118 [==============================] - 0s 1ms/step - loss: 0.1182 - accuracy: 0.9533\n",
      "Epoch 165/200\n",
      "118/118 [==============================] - 0s 1ms/step - loss: 0.1184 - accuracy: 0.9523\n",
      "Epoch 166/200\n",
      "118/118 [==============================] - 0s 1ms/step - loss: 0.1177 - accuracy: 0.9531\n",
      "Epoch 167/200\n",
      "118/118 [==============================] - 0s 1ms/step - loss: 0.1179 - accuracy: 0.9515\n",
      "Epoch 168/200\n",
      "118/118 [==============================] - 0s 1ms/step - loss: 0.1193 - accuracy: 0.9525\n",
      "Epoch 169/200\n",
      "118/118 [==============================] - 0s 1ms/step - loss: 0.1179 - accuracy: 0.9523\n",
      "Epoch 170/200\n",
      "118/118 [==============================] - 0s 1ms/step - loss: 0.1182 - accuracy: 0.9528\n",
      "Epoch 171/200\n",
      "118/118 [==============================] - 0s 1ms/step - loss: 0.1184 - accuracy: 0.9544\n",
      "Epoch 172/200\n",
      "118/118 [==============================] - 0s 1ms/step - loss: 0.1177 - accuracy: 0.9528\n",
      "Epoch 173/200\n",
      "118/118 [==============================] - 0s 1ms/step - loss: 0.1184 - accuracy: 0.9539\n",
      "Epoch 174/200\n",
      "118/118 [==============================] - 0s 1ms/step - loss: 0.1180 - accuracy: 0.9531\n",
      "Epoch 175/200\n",
      "118/118 [==============================] - 0s 1ms/step - loss: 0.1175 - accuracy: 0.9525\n",
      "Epoch 176/200\n",
      "118/118 [==============================] - 0s 1ms/step - loss: 0.1173 - accuracy: 0.9528\n",
      "Epoch 177/200\n",
      "118/118 [==============================] - 0s 1ms/step - loss: 0.1171 - accuracy: 0.9523\n",
      "Epoch 178/200\n",
      "118/118 [==============================] - 0s 1ms/step - loss: 0.1179 - accuracy: 0.9525\n",
      "Epoch 179/200\n",
      "118/118 [==============================] - 0s 1ms/step - loss: 0.1177 - accuracy: 0.9549\n",
      "Epoch 180/200\n",
      "118/118 [==============================] - 0s 1ms/step - loss: 0.1181 - accuracy: 0.9531\n",
      "Epoch 181/200\n",
      "118/118 [==============================] - 0s 1ms/step - loss: 0.1181 - accuracy: 0.9531\n",
      "Epoch 182/200\n",
      "118/118 [==============================] - 0s 1ms/step - loss: 0.1180 - accuracy: 0.9547\n",
      "Epoch 183/200\n",
      "118/118 [==============================] - 0s 1ms/step - loss: 0.1170 - accuracy: 0.9525\n",
      "Epoch 184/200\n",
      "118/118 [==============================] - 0s 1ms/step - loss: 0.1176 - accuracy: 0.9536\n",
      "Epoch 185/200\n",
      "118/118 [==============================] - 0s 1ms/step - loss: 0.1174 - accuracy: 0.9536\n",
      "Epoch 186/200\n",
      "118/118 [==============================] - 0s 1ms/step - loss: 0.1171 - accuracy: 0.9528\n",
      "Epoch 187/200\n",
      "118/118 [==============================] - 0s 1ms/step - loss: 0.1176 - accuracy: 0.9507\n",
      "Epoch 188/200\n",
      "118/118 [==============================] - 0s 1ms/step - loss: 0.1170 - accuracy: 0.9528\n",
      "Epoch 189/200\n",
      "118/118 [==============================] - 0s 1ms/step - loss: 0.1175 - accuracy: 0.9531\n",
      "Epoch 190/200\n",
      "118/118 [==============================] - 0s 1ms/step - loss: 0.1173 - accuracy: 0.9531\n",
      "Epoch 191/200\n",
      "118/118 [==============================] - 0s 1ms/step - loss: 0.1177 - accuracy: 0.9531\n",
      "Epoch 192/200\n",
      "118/118 [==============================] - 0s 1ms/step - loss: 0.1172 - accuracy: 0.9539\n",
      "Epoch 193/200\n",
      "118/118 [==============================] - 0s 1ms/step - loss: 0.1164 - accuracy: 0.9515\n",
      "Epoch 194/200\n",
      "118/118 [==============================] - 0s 1ms/step - loss: 0.1174 - accuracy: 0.9531\n",
      "Epoch 195/200\n",
      "118/118 [==============================] - 0s 1ms/step - loss: 0.1181 - accuracy: 0.9544\n",
      "Epoch 196/200\n",
      "118/118 [==============================] - 0s 1ms/step - loss: 0.1173 - accuracy: 0.9549\n",
      "Epoch 197/200\n",
      "118/118 [==============================] - 0s 1ms/step - loss: 0.1189 - accuracy: 0.9541\n",
      "Epoch 198/200\n",
      "118/118 [==============================] - 0s 1ms/step - loss: 0.1183 - accuracy: 0.9528\n",
      "Epoch 199/200\n",
      "118/118 [==============================] - 0s 1ms/step - loss: 0.1178 - accuracy: 0.9525\n",
      "Epoch 200/200\n",
      "118/118 [==============================] - 0s 1ms/step - loss: 0.1170 - accuracy: 0.9541\n"
     ]
    }
   ],
   "source": [
    "# Fit the model to the training data\n",
    "fit_model = nn_model.fit(X_train_scaled, y_train, epochs=200)"
   ]
  },
  {
   "cell_type": "code",
   "execution_count": 76,
   "metadata": {
    "colab": {
     "base_uri": "https://localhost:8080/"
    },
    "executionInfo": {
     "elapsed": 382,
     "status": "ok",
     "timestamp": 1676475651065,
     "user": {
      "displayName": "Sean Morey",
      "userId": "09649124933964159109"
     },
     "user_tz": 360
    },
    "id": "6lw_AdUNumj9",
    "outputId": "565206ee-9a3c-4b1c-b229-bed56767eb46"
   },
   "outputs": [
    {
     "name": "stdout",
     "output_type": "stream",
     "text": [
      "40/40 - 0s - loss: 0.1528 - accuracy: 0.9504 - 137ms/epoch - 3ms/step\n",
      "Loss: 0.15283946692943573, Accuracy: 0.9503999948501587\n"
     ]
    }
   ],
   "source": [
    "# Evaluate the model using the test data\n",
    "model_loss, model_accuracy = nn_model.evaluate(X_test_scaled,y_test,verbose=2)\n",
    "print(f\"Loss: {model_loss}, Accuracy: {model_accuracy}\")"
   ]
  },
  {
   "cell_type": "code",
   "execution_count": 61,
   "metadata": {
    "colab": {
     "base_uri": "https://localhost:8080/",
     "height": 265
    },
    "executionInfo": {
     "elapsed": 111,
     "status": "ok",
     "timestamp": 1676475651335,
     "user": {
      "displayName": "Sean Morey",
      "userId": "09649124933964159109"
     },
     "user_tz": 360
    },
    "id": "fP4LkO6mumj9",
    "outputId": "3c9a3c5d-ae62-41a2-bed7-2b460684e9b3"
   },
   "outputs": [
    {
     "data": {
      "image/png": "[encoded data removed]",
      "text/plain": [
       "<Figure size 432x288 with 1 Axes>"
      ]
     },
     "metadata": {
      "needs_background": "light"
     },
     "output_type": "display_data"
    }
   ],
   "source": [
    "# Create a DataFrame containing training history\n",
    "history_df = pd.DataFrame(fit_model.history, index=range(1,len(fit_model.history[\"loss\"])+1))\n",
    "\n",
    "# Plot the accuracy\n",
    "history_df.plot(y=\"accuracy\")\n",
    "plt.show()"
   ]
  },
  {
   "cell_type": "markdown",
   "metadata": {},
   "source": [
    "# =========================================="
   ]
  },
  {
   "cell_type": "markdown",
   "metadata": {},
   "source": [
    "### Rating Class Objectives\n",
    "\n",
    "* rate your understanding using 1-5 method in each objective"
   ]
  },
  {
   "cell_type": "code",
   "execution_count": null,
   "metadata": {},
   "outputs": [],
   "source": [
    "title = \"21.1-Neural-Networks-Deep-Learning-Introduction to Advanced Machine Learning\"\n",
    "objectives = [\n",
    "    \"Compare the differences between the traditional machine learning classification and regression models and the neural network models\",\n",
    "    \"Describe the perceptron model and its components\",\n",
    "    \"Implement neural network models using TensorFlow\",\n",
    "]\n",
    "rating = []\n",
    "total = 0\n",
    "for i in range(len(objectives)):\n",
    "    rate = input(objectives[i]+\"? \")\n",
    "    total += int(rate)\n",
    "    rating.append(objectives[i] + \". (\" + rate + \"/5)\")\n",
    "print(\"=\"*96)\n",
    "print(f\"Self Evaluation for: {title}\")\n",
    "print(\"-\"*24)\n",
    "for i in rating:\n",
    "    print(i)\n",
    "print(\"-\"*64)\n",
    "print(\"Average: \" + str(total/len(objectives)))"
   ]
  },
  {
   "cell_type": "code",
   "execution_count": null,
   "metadata": {},
   "outputs": [],
   "source": []
  },
  {
   "cell_type": "code",
   "execution_count": null,
   "metadata": {},
   "outputs": [],
   "source": []
  }
 ],
 "metadata": {
  "kernelspec": {
   "display_name": "Python [conda env:PythonData]",
   "language": "python",
   "name": "conda-env-PythonData-py"
  },
  "language_info": {
   "codemirror_mode": {
    "name": "ipython",
    "version": 3
   },
   "file_extension": ".py",
   "mimetype": "text/x-python",
   "name": "python",
   "nbconvert_exporter": "python",
   "pygments_lexer": "ipython3",
   "version": "3.7.15"
  }
 },
 "nbformat": 4,
 "nbformat_minor": 4
}
