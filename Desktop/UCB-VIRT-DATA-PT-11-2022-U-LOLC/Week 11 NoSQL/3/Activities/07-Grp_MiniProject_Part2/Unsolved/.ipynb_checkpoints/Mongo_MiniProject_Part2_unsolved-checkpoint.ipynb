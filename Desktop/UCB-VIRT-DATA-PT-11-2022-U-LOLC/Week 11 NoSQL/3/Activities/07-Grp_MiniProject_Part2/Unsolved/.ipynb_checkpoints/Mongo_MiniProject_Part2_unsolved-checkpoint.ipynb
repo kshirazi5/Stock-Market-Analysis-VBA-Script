{
 "cells": [
  {
   "cell_type": "code",
   "execution_count": 1,
   "id": "69cb6124",
   "metadata": {},
   "outputs": [],
   "source": [
    "# Import dependencies\n",
    "from pymongo import MongoClient\n",
    "from pprint import pprint\n",
    "import pandas as pd"
   ]
  },
  {
   "cell_type": "code",
   "execution_count": 2,
   "id": "b53e9996",
   "metadata": {},
   "outputs": [],
   "source": [
    "# Create an instance of MongoClient\n",
    "mongo = MongoClient(port=27017)\n",
    "\n",
    "# assign the met database to a variable name\n",
    "db = mongo['met']\n",
    "\n",
    "# assign the collection to a variable\n",
    "artifacts = db['artifacts']"
   ]
  },
  {
   "cell_type": "code",
   "execution_count": 4,
   "id": "c80c20c4",
   "metadata": {
    "scrolled": true
   },
   "outputs": [
    {
     "data": {
      "text/plain": [
       "{'_id': ObjectId('64018020ef7f8858051a1c56'),\n",
       " 'objectID': 312624,\n",
       " 'isHighlight': False,\n",
       " 'accessionNumber': '1979.206.404',\n",
       " 'accessionYear': '1979',\n",
       " 'isPublicDomain': True,\n",
       " 'primaryImage': 'https://images.metmuseum.org/CRDImages/ao/original/1979.206.404.JPG',\n",
       " 'primaryImageSmall': 'https://images.metmuseum.org/CRDImages/ao/web-large/1979.206.404.JPG',\n",
       " 'additionalImages': [],\n",
       " 'constituents': None,\n",
       " 'department': 'The Michael C. Rockefeller Wing',\n",
       " 'objectName': 'Animal figure',\n",
       " 'title': 'Animal',\n",
       " 'culture': 'Nayarit',\n",
       " 'period': '',\n",
       " 'dynasty': '',\n",
       " 'reign': '',\n",
       " 'portfolio': '',\n",
       " 'artistRole': '',\n",
       " 'artistPrefix': '',\n",
       " 'artistDisplayName': '',\n",
       " 'artistDisplayBio': '',\n",
       " 'artistSuffix': '',\n",
       " 'artistAlphaSort': '',\n",
       " 'artistNationality': '',\n",
       " 'artistBeginDate': '',\n",
       " 'artistEndDate': '',\n",
       " 'artistGender': '',\n",
       " 'artistWikidata_URL': '',\n",
       " 'artistULAN_URL': '',\n",
       " 'objectDate': '4th–7th century',\n",
       " 'objectBeginDate': 300,\n",
       " 'objectEndDate': 700,\n",
       " 'medium': 'Ceramic, pigment',\n",
       " 'dimensions': 'H. 16 9/16 x W. 9 3/4 x D. 13 in. (42.1 x 24.8 x 33 cm)',\n",
       " 'measurements': [{'elementName': 'Overall',\n",
       "   'elementDescription': None,\n",
       "   'elementMeasurements': {'Depth': 33.02,\n",
       "    'Height': 42.0687,\n",
       "    'Width': 24.77}}],\n",
       " 'creditLine': 'The Michael C. Rockefeller Memorial Collection, Bequest of Nelson A. Rockefeller, 1979',\n",
       " 'geographyType': '',\n",
       " 'city': '',\n",
       " 'state': 'Nayarit',\n",
       " 'county': '',\n",
       " 'country': 'Mexico',\n",
       " 'region': 'Mesoamerica',\n",
       " 'subregion': '',\n",
       " 'locale': '',\n",
       " 'locus': '',\n",
       " 'excavation': '',\n",
       " 'river': '',\n",
       " 'classification': 'Ceramics-Sculpture',\n",
       " 'rightsAndReproduction': '',\n",
       " 'linkResource': '',\n",
       " 'metadataDate': '2020-09-16T18:35:19.457Z',\n",
       " 'repository': 'Metropolitan Museum of Art, New York, NY',\n",
       " 'objectURL': 'https://www.metmuseum.org/art/collection/search/312624',\n",
       " 'tags': [{'term': 'Animals',\n",
       "   'AAT_URL': 'http://vocab.getty.edu/page/aat/300249525',\n",
       "   'Wikidata_URL': 'https://www.wikidata.org/wiki/Q729'}],\n",
       " 'objectWikidata_URL': '',\n",
       " 'isTimelineWork': False,\n",
       " 'GalleryNumber': ''}"
      ]
     },
     "execution_count": 4,
     "metadata": {},
     "output_type": "execute_result"
    }
   ],
   "source": [
    "artifacts.find_one({})"
   ]
  },
  {
   "cell_type": "markdown",
   "id": "a8da51eb",
   "metadata": {},
   "source": [
    "* Write a query that:\n",
    "\n",
    "    * Uses `find()` to find documents about artifacts that come from the \"Maya\" culture and returns the following fields: `accessionNumber`, `accessionYear`, `classification`, `country`, `department`, `measurements.elementMeasurements.Height`, `measurements.elementMeasurements.Width`, `measurements.elementMeasurements.Depth`, `medium`, `title`,`objectURL`.\n",
    "\n",
    "    * Uses `sort()` to sort by the artifact's height.\n",
    "\n",
    "    * Uses `limit()` to limit the number of results to 5.\n"
   ]
  },
  {
   "cell_type": "code",
   "execution_count": null,
   "id": "e95548c8",
   "metadata": {},
   "outputs": [],
   "source": [
    "# Query\n",
    "query={'culture': 'Maya'}\n",
    "fields=['accessionNumber', 'accessionYear', 'classification', 'country', 'department', measurements.elementMeasurements.Height, measurements.elementMeasurements.Width, measurements.elementMeasurements.Depth, medium, title,objectURL}\n",
    "# Cast the results as a list and save them to a variable\n",
    "\n",
    "# Pretty print the results\n"
   ]
  },
  {
   "cell_type": "code",
   "execution_count": null,
   "id": "c2c50ff7",
   "metadata": {},
   "outputs": [],
   "source": [
    "# Convert results to DataFrame\n"
   ]
  },
  {
   "cell_type": "code",
   "execution_count": null,
   "id": "e2c0e515",
   "metadata": {},
   "outputs": [],
   "source": [
    "# Build the aggregation pipeline\n",
    "# Write a match query to find only the documents about artifacts that\n",
    "# have a classification where \"Sculpture\" is contained the value, and\n",
    "# have a width greater than or equal to 10cm and less than 50cm, and\n",
    "# have a height greater than or equal to 20cm and less than 60cm.\n",
    "\n",
    "\n",
    "# Write an aggregation query that counts the number of documents, grouped by \"classification\" and \"culture\"\n",
    "\n",
    "# Create a dictionary that will allow the pipeline to sort by count in descending order\n",
    "\n",
    "# Put the pipeline together\n",
    "pipeline = # YOUR CODE HERE"
   ]
  },
  {
   "cell_type": "code",
   "execution_count": null,
   "id": "a6d132ae",
   "metadata": {},
   "outputs": [],
   "source": [
    "# Run the pipeline through the aggregate method, cast the results as a list, and save the results to a variable\n"
   ]
  },
  {
   "cell_type": "code",
   "execution_count": null,
   "id": "b6000ff7",
   "metadata": {},
   "outputs": [],
   "source": [
    "# Print the number of rows in the result\n"
   ]
  },
  {
   "cell_type": "code",
   "execution_count": null,
   "id": "1a4b4c67",
   "metadata": {},
   "outputs": [],
   "source": [
    "# Pretty print the first 10 results\n"
   ]
  },
  {
   "cell_type": "code",
   "execution_count": null,
   "id": "2b5ef0dd",
   "metadata": {},
   "outputs": [],
   "source": [
    "# Extract the fields from the _id so they're in separate columns in a Pandas DataFrame\n"
   ]
  },
  {
   "cell_type": "code",
   "execution_count": null,
   "id": "b2128001",
   "metadata": {},
   "outputs": [],
   "source": [
    "# Rename the columns\n"
   ]
  },
  {
   "cell_type": "code",
   "execution_count": null,
   "id": "0224f633",
   "metadata": {},
   "outputs": [],
   "source": [
    "# Reorder the columns\n",
    "\n",
    "\n",
    "# Print the first 10 rows of the DataFrame\n"
   ]
  },
  {
   "cell_type": "markdown",
   "id": "dd2101d5",
   "metadata": {},
   "source": [
    "Data Source: [The Metropolitan Museum of Art](https://www.metmuseum.org/) (2022). The Metropolitan Museum of Art Collection API https://metmuseum.github.io/. Licenced under the [Creative Commons 0 Licence](https://creativecommons.org/publicdomain/zero/1.0/).<br />\n",
    "Accessed Oct 3, 2022. Data collected from departmentId=5 (\"Arts of Africa, Oceania, and the Americas\") and search string \"animal\"."
   ]
  }
 ],
 "metadata": {
  "kernelspec": {
   "display_name": "Python 3 (ipykernel)",
   "language": "python",
   "name": "python3"
  },
  "language_info": {
   "codemirror_mode": {
    "name": "ipython",
    "version": 3
   },
   "file_extension": ".py",
   "mimetype": "text/x-python",
   "name": "python",
   "nbconvert_exporter": "python",
   "pygments_lexer": "ipython3",
   "version": "3.9.13"
  }
 },
 "nbformat": 4,
 "nbformat_minor": 5
}
